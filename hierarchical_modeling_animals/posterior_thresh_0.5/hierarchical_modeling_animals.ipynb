{
 "cells": [
  {
   "cell_type": "code",
   "execution_count": 1,
   "metadata": {
    "collapsed": true
   },
   "outputs": [],
   "source": [
    "import pickle\n",
    "from gensim import corpora, models\n",
    "import numpy as np"
   ]
  },
  {
   "cell_type": "code",
   "execution_count": 2,
   "metadata": {
    "collapsed": true
   },
   "outputs": [],
   "source": [
    "with open(\"../../topic_models_crop/data2/50-topic-res-all.txt\", \"rb\") as fp:\n",
    "    img_by_topic = pickle.load(fp)\n"
   ]
  },
  {
   "cell_type": "code",
   "execution_count": 3,
   "metadata": {},
   "outputs": [],
   "source": [
    "# get full list of images\n",
    "img_list = np.load('../../topic_models_crop/data/image_list_yfcc100m_output_100k_crop.npy')"
   ]
  },
  {
   "cell_type": "code",
   "execution_count": 4,
   "metadata": {},
   "outputs": [],
   "source": [
    "# get images in topic animals with posteriors above 0.5\n",
    "topic_animals_img_indices = [img_by_topic[35][i][0] for i in range(0, 5000) if img_by_topic[35][i][1] >= 0.5]\n",
    "# get urls of topic animal images\n",
    "animal_image_urls = img_list[topic_animals_img_indices]\n",
    "\n",
    "np.save('data/img_list_animals',animal_image_urls)"
   ]
  },
  {
   "cell_type": "code",
   "execution_count": 5,
   "metadata": {},
   "outputs": [],
   "source": [
    "# get binary yfcc100 vector\n",
    "yfcc_binary = np.load('../../topic_models_crop/data/one_hot_yfcc100m.npy')"
   ]
  },
  {
   "cell_type": "code",
   "execution_count": 6,
   "metadata": {},
   "outputs": [],
   "source": [
    "# get binary vectors corresponding to topic animals\n",
    "animals_binary = yfcc_binary[topic_animals_img_indices]\n",
    "\n",
    "np.save('data/animals_binary',animals_binary)"
   ]
  },
  {
   "cell_type": "code",
   "execution_count": 7,
   "metadata": {
    "collapsed": true
   },
   "outputs": [],
   "source": [
    "X = np.load('data/animals_binary.npy')"
   ]
  },
  {
   "cell_type": "code",
   "execution_count": 8,
   "metadata": {},
   "outputs": [
    {
     "name": "stdout",
     "output_type": "stream",
     "text": [
      "shape of data is: (186, 4096)\n"
     ]
    }
   ],
   "source": [
    "num_topics = [15]\n",
    "num_words = 4096 # Number of top features to be displayed per topic\n",
    "num_images = X.shape[0]\n",
    "print 'shape of data is:',X.shape"
   ]
  },
  {
   "cell_type": "code",
   "execution_count": 9,
   "metadata": {},
   "outputs": [],
   "source": [
    "# get corpus corresponding to images in topic animals\n",
    "corpus = [[(j, X[i, j]) for j in range(num_words) if X[i, j]==1] for i in range(num_images)]"
   ]
  },
  {
   "cell_type": "code",
   "execution_count": 10,
   "metadata": {
    "collapsed": true
   },
   "outputs": [],
   "source": [
    "corpora.MmCorpus.serialize('data/corpus_animals.mm', corpus)\n"
   ]
  },
  {
   "cell_type": "code",
   "execution_count": 11,
   "metadata": {
    "collapsed": true
   },
   "outputs": [],
   "source": [
    "# Load corpus\n",
    "corpus = corpora.MmCorpus('data/corpus_animals.mm')"
   ]
  },
  {
   "cell_type": "code",
   "execution_count": 12,
   "metadata": {
    "collapsed": true
   },
   "outputs": [],
   "source": [
    "animal_image_urls = np.load('data/img_list_animals.npy')"
   ]
  },
  {
   "cell_type": "code",
   "execution_count": 13,
   "metadata": {},
   "outputs": [
    {
     "name": "stdout",
     "output_type": "stream",
     "text": [
      "15\n"
     ]
    }
   ],
   "source": [
    "for K in num_topics:\n",
    "    print K\n",
    "    # Create the Topic Model\n",
    "    model_name = str(K) + '-topics.model'\n",
    "    lda = models.ldamodel.LdaModel(corpus, num_topics = K,  minimum_probability=0)\n",
    "    lda.save('results/' + model_name)\n",
    "\n",
    "    # Get topic for each image\n",
    "    img_by_topic = [[] for _ in range(K)]\n",
    "    for i in range(num_images):\n",
    "        sorted_topics = sorted(lda.get_document_topics(corpus[i]), key=lambda x:x[1])\n",
    "        for item in sorted_topics:\n",
    "            img_by_topic[item[0]].append((i,item[1]))\n",
    "\n",
    "\n",
    "    for j in range(K):\n",
    "        img_by_topic[j].sort(key=lambda x: -x[1])\n",
    "\n",
    "    with open(\"results/\" + str(K) + \"-topic-res.txt\", \"wb\") as fp:\n",
    "        pickle.dump(img_by_topic, fp)"
   ]
  },
  {
   "cell_type": "code",
   "execution_count": null,
   "metadata": {
    "collapsed": true
   },
   "outputs": [],
   "source": []
  }
 ],
 "metadata": {
  "kernelspec": {
   "display_name": "Python 2",
   "language": "python",
   "name": "python2"
  },
  "language_info": {
   "codemirror_mode": {
    "name": "ipython",
    "version": 2
   },
   "file_extension": ".py",
   "mimetype": "text/x-python",
   "name": "python",
   "nbconvert_exporter": "python",
   "pygments_lexer": "ipython2",
   "version": "2.7.14"
  }
 },
 "nbformat": 4,
 "nbformat_minor": 2
}
